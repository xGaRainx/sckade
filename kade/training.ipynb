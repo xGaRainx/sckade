{
 "cells": [
  {
   "cell_type": "code",
   "execution_count": null,
   "metadata": {},
   "outputs": [],
   "source": [
    "from itertools import chain\n",
    "\n",
    "import anndata as ad\n",
    "import itertools\n",
    "import pandas as pd\n",
    "import scanpy as sc\n",
    "import sckade\n",
    "import seaborn as sns\n",
    "from matplotlib import rcParams"
   ]
  },
  {
   "cell_type": "code",
   "execution_count": 2,
   "metadata": {},
   "outputs": [],
   "source": [
    "sckade.plot.set_publication_params()\n",
    "rcParams[\"figure.figsize\"] = (4, 4)"
   ]
  },
  {
   "cell_type": "code",
   "execution_count": 3,
   "metadata": {},
   "outputs": [],
   "source": [
    "rna = ad.read_h5ad(\"./data/preprocess/10x-rna-pp.h5ad\")\n",
    "atac = ad.read_h5ad(\"./data/preprocess/10x-atac-pp.h5ad\")"
   ]
  },
  {
   "cell_type": "code",
   "execution_count": null,
   "metadata": {},
   "outputs": [],
   "source": [
    "rna.layers"
   ]
  },
  {
   "cell_type": "code",
   "execution_count": 5,
   "metadata": {},
   "outputs": [],
   "source": [
    "sckade.models.configure_dataset(\n",
    "    rna, use_layer=\"counts\", use_rep=\"X_pca\"\n",
    ")"
   ]
  },
  {
   "cell_type": "code",
   "execution_count": 6,
   "metadata": {},
   "outputs": [],
   "source": [
    "sckade.models.configure_dataset(\n",
    "    atac, use_rep=\"X_lsi\"\n",
    ")"
   ]
  },
  {
   "cell_type": "code",
   "execution_count": null,
   "metadata": {},
   "outputs": [],
   "source": [
    "kade = sckade.models.fit_sckade(\n",
    "    {\"rna\": rna, \"atac\": atac},\n",
    "    fit_kws={\"directory\": \"kade\"}\n",
    ")"
   ]
  },
  {
   "cell_type": "code",
   "execution_count": 8,
   "metadata": {},
   "outputs": [],
   "source": [
    "kade.save(\"kade.dill\")"
   ]
  },
  {
   "cell_type": "code",
   "execution_count": 9,
   "metadata": {},
   "outputs": [],
   "source": [
    "rna.obsm[\"X_kade\"] = kade.encode_data(\"rna\", rna)\n",
    "atac.obsm[\"X_kade\"] = kade.encode_data(\"atac\", atac)"
   ]
  },
  {
   "cell_type": "code",
   "execution_count": null,
   "metadata": {},
   "outputs": [],
   "source": [
    "combined = ad.concat([rna, atac])\n",
    "sc.pp.neighbors(combined, use_rep=\"X_kade\", metric=\"cosine\")\n",
    "sc.tl.umap(combined)\n",
    "sc.pl.umap(combined, color=[\"cell_type\", \"domain\"], wspace=0.65)"
   ]
  },
  {
   "cell_type": "code",
   "execution_count": 11,
   "metadata": {},
   "outputs": [],
   "source": [
    "rna.write(\"./data/latent/10x-rna-emb.h5ad\", compression=\"gzip\")\n",
    "atac.write(\"./data/latent/10x-atac-emb.h5ad\", compression=\"gzip\")"
   ]
  },
  {
   "cell_type": "code",
   "execution_count": 12,
   "metadata": {},
   "outputs": [],
   "source": [
    "rna = ad.read_h5ad(\"./data/latent/10x-rna-emb.h5ad\")\n",
    "atac = ad.read_h5ad(\"./data/latent/10x-atac-emb.h5ad\")"
   ]
  },
  {
   "cell_type": "code",
   "execution_count": 13,
   "metadata": {},
   "outputs": [],
   "source": [
    "rna, atac"
   ]
  },
  {
   "cell_type": "code",
   "execution_count": 14,
   "metadata": {},
   "outputs": [],
   "source": [
    "rna_latent = pd.DataFrame(rna.obsm['X_kade'])\n",
    "atac_latent = pd.DataFrame(atac.obsm['X_kade'])"
   ]
  },
  {
   "cell_type": "code",
   "execution_count": 15,
   "metadata": {},
   "outputs": [],
   "source": [
    "rna_latent.to_csv(\"./data/latent/10x_rna_latent.csv\", index = False, header = None)\n",
    "atac_latent.to_csv(\"./data/latent/10x_atac_latent.csv\", index=False, header = None)"
   ]
  }
 ],
 "metadata": {
  "kernelspec": {
   "display_name": "single",
   "language": "python",
   "name": "python3"
  },
  "language_info": {
   "codemirror_mode": {
    "name": "ipython",
    "version": 3
   },
   "file_extension": ".py",
   "mimetype": "text/x-python",
   "name": "python",
   "nbconvert_exporter": "python",
   "pygments_lexer": "ipython3",
   "version": "3.9.18"
  }
 },
 "nbformat": 4,
 "nbformat_minor": 2
}
